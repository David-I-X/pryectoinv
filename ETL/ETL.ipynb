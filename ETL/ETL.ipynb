{
  "cells": [
    {
      "cell_type": "markdown",
      "metadata": {
        "id": "QxLgHtfSYqTi"
      },
      "source": [
        "**Data Enigeering**\n",
        "\n",
        "[Repositorio](https://github.com/soyHenry/PI_ML_OPS/tree/PT?tab=readme-ov-file)"
      ]
    },
    {
      "cell_type": "markdown",
      "metadata": {
        "id": "TcBwHkaQuOju"
      },
      "source": [
        "**Se define autoguardado en 60 segundos**"
      ]
    },
    {
      "cell_type": "code",
      "execution_count": null,
      "metadata": {
        "colab": {
          "base_uri": "https://localhost:8080/",
          "height": 34
        },
        "id": "FZQocakAuPM8",
        "outputId": "72f6f119-3127-484f-e723-168621e04bba"
      },
      "outputs": [],
      "source": [
        "autosave 60"
      ]
    },
    {
      "cell_type": "markdown",
      "metadata": {
        "id": "BJY4K3WCMVoS"
      },
      "source": [
        "**Se importan las librerías necesarias para el proyecto**"
      ]
    },
    {
      "cell_type": "code",
      "execution_count": 2,
      "metadata": {
        "id": "OOob8b9bMQi-"
      },
      "outputs": [
        {
          "name": "stdout",
          "output_type": "stream",
          "text": [
            "showing info https://raw.githubusercontent.com/nltk/nltk_data/gh-pages/index.xml\n"
          ]
        }
      ],
      "source": [
        "import zipfile, gzip, json, ast\n",
        "import nltk\n",
        "nltk.download()\n",
        "import pandas as pd\n",
        "import numpy as np\n",
        "import matplotlib.pyplot as plt\n",
        "from nltk.sentiment.vader import SentimentIntensityAnalyzer"
      ]
    },
    {
      "cell_type": "markdown",
      "metadata": {
        "id": "tlo9XL0yM6ST"
      },
      "source": [
        "**Se definen las funciones extraer_json y extraer_ast, las que ayudarán con la extracción de datos de los archivos .gz**\n",
        "\n",
        "\n",
        "*   extraer_json hace uso de la función json.loads() para hacer la carga de datos al dataframe\n",
        "*   extraer_ast hace uso de la función ast_literal_eval() para hacer la carga de datos al dataframe\n",
        "\n",
        "\n",
        "\n"
      ]
    },
    {
      "cell_type": "code",
      "execution_count": null,
      "metadata": {
        "id": "F-t0oZwpM5ut"
      },
      "outputs": [],
      "source": [
        "def extraer_json(ruta):\n",
        "  data = []\n",
        "  with gzip.open(ruta,'rb') as archivo:\n",
        "    for line in archivo:\n",
        "      data.append(json.loads(line))\n",
        "  df = pd.DataFrame(data)\n",
        "  archivo.close()\n",
        "  return df\n",
        "\n",
        "def extraer_ast(ruta):\n",
        "  data = []\n",
        "  with gzip.open(ruta,'rb') as archivo:\n",
        "    for line in archivo:\n",
        "      data.append(ast.literal_eval(line.decode('utf-8')))\n",
        "  df = pd.DataFrame(data)\n",
        "  archivo.close()\n",
        "  return df"
      ]
    },
    {
      "cell_type": "markdown",
      "metadata": {
        "id": "Ww_lgjkPQg2I"
      },
      "source": [
        "**Se importan los datos a sus respectivos DataFrames**\n",
        "\n",
        "y se hace un archivo de respaldo"
      ]
    },
    {
      "cell_type": "code",
      "execution_count": null,
      "metadata": {
        "id": "HD3MfXc0S73E"
      },
      "outputs": [],
      "source": [
        "df_juegos = extraer_json('steam_games.json.gz')\n",
        "df_juegos_respaldo = df_juegos\n",
        "df_reviews = extraer_ast('user_reviews.json.gz')\n",
        "df_reviews_respaldo = df_reviews\n",
        "df_items = extraer_ast('users_items.json.gz')\n",
        "df_items_respaldo = df_items"
      ]
    },
    {
      "cell_type": "code",
      "execution_count": 3,
      "metadata": {},
      "outputs": [],
      "source": [
        "df_juegos = pd.read_parquet(\"games.parquet\")\n",
        "df_items = pd.read_parquet(\"items.parquet\")\n",
        "df_reviews = pd.read_parquet(\"reviews.parquet\")"
      ]
    },
    {
      "cell_type": "markdown",
      "metadata": {
        "id": "FCwc6rkpdJF7"
      },
      "source": [
        "**Se limpian los Dataframes de duplicados y registros vacíos (todos NaN)**"
      ]
    },
    {
      "cell_type": "code",
      "execution_count": null,
      "metadata": {
        "id": "eaR5QJlfdHtS"
      },
      "outputs": [],
      "source": [
        "df_juegos.dropna(how=\"all\", inplace=True)\n",
        "df_reviews.dropna(how=\"all\", inplace=True)\n",
        "df_items.dropna(how=\"all\", inplace=True)\n",
        "df_juegos.drop_duplicates(subset=['title'], inplace=True)\n",
        "df_reviews.drop_duplicates(subset=['user_id'], inplace=True)\n",
        "df_items.drop_duplicates(subset=['user_id'], inplace=True)"
      ]
    },
    {
      "cell_type": "markdown",
      "metadata": {
        "id": "rnmCgR0FmIAa"
      },
      "source": [
        "**Modificaciones aplicadas para manejar errores:**\n",
        "\n",
        "*df_juegos*\n",
        "\n",
        "*   Datos faltantes en \"publisher\" fueron reemplazados por \"(none)\", así como datos mal ingresados, como \"-\"\n",
        "*   Datos faltantes en \"genres\" fueron reemplazados por \"[]\"\n",
        "*   Datos faltantes en \"genres\" fueron reemplazados por \"[]\"\n",
        "*   Datos faltantes en \"app_name\", fueron reemplazados por el valor de \"title\"\n",
        "*   Datos faltantes en \"title\" fueron reemplazados por el valor de \"app_name\"\n",
        "*   Datos faltantes en \"url\" fueron reemplazados por \"\"\n",
        "*   Datos incorrectos en \"release_date\" fueron corregidos, como \"15.01.2018\"\n",
        "*   Datos faltantes en \"release_date\" fueron reemplazados por \"2003-09-12\", la fecha de creación de steam, además, se realizó el mismo proceso con fechas inválidas como \"Soon...\" y \"Coming Soon\"\n",
        "*   Datos faltantes en \"tags\" fueron reemplazados por \"[]\"\n",
        "*   Datos faltantes en \"reviews_url\" fueron reemplazados con \"https://store.steampowered.com\", la página oficial de Steam\n",
        "*   Datos faltantes en \"specs\" fueron reemplazados por \"[]\"\n",
        "*   Datos faltantes en \"price\" fueron reemplazados por \"-2\", mientras que \"Free\", \"Free to play\" y sus variaciones fueron  identificados con \"0\"\n",
        "*   Datos faltantes en \"developer\" fueron reemplazados por \"[]\"\n",
        "*   En caso de faltar \"app_name\" y \"title\" se elimina el registro por falta de identificación propia\n",
        "*   Se convirtieron los datos de la columna id en valores numéricos\n",
        "*   Se generan \"id\"s nuevas para los datos faltantes, continuando con la numeración máxima en el registro\n",
        "*   Unión de datos de las columnas \"tags\" y \"genres\", así como ordenamiento alfabético de sus contenidos\n",
        "*   Ordenamiento de specs por orden alfabético\n",
        "\n",
        "*df_reviews*\n",
        "\n",
        "*   Se desempaquetan los datos, ya que la columna \"reviews\" contenía datos de \"funny\", \"posted\", \"last_edited\", \"item_id\", \"helpful\", \"recommend\" y \"review\"\n",
        "*   Se convirtieron los datos de la columna \"funny\" en sólo los valores numéricos, reemplazando por \"0\" cuando ningún usuario marcó el juego como \"funny\"\n",
        "*   se reemplazaron los valores vacíos de la columna \"last_edited\" por \"Not edited\"\n",
        "\n",
        "*df_items*\n",
        "\n",
        "*   No fue necesario hacer manejo de datos faltantes"
      ]
    },
    {
      "cell_type": "code",
      "execution_count": null,
      "metadata": {
        "id": "trTzUolfmJbw"
      },
      "outputs": [],
      "source": [
        "'''df_juegos'''\n",
        "# Manejo de datos faltantes\n",
        "df_juegos['publisher'].fillna('(none)', inplace=True)\n",
        "df_juegos['publisher'].replace('-', '(none)', inplace=True)\n",
        "df_juegos['publisher'].replace('---', '(none)', inplace=True)\n",
        "df_juegos['genres'].fillna('[]', inplace=True)\n",
        "df_juegos['app_name'].fillna(df_juegos['title'], inplace=True)\n",
        "df_juegos['title'].fillna(df_juegos['app_name'], inplace=True)\n",
        "df_juegos['url'].fillna('', inplace=True)\n",
        "df_juegos['release_date'] = pd.to_datetime(df_juegos['release_date'], format='%d.%m.%Y', errors='coerce').dt.strftime('%Y-%m-%d')\n",
        "df_juegos['release_date'].fillna('2003-09-12', inplace=True)\n",
        "df_juegos['tags'].fillna('[]', inplace=True)\n",
        "df_juegos['reviews_url'].fillna('https://store.steampowered.com', inplace=True)\n",
        "df_juegos['specs'].fillna('[]', inplace=True)\n",
        "df_juegos['price'].fillna(-2, inplace=True)\n",
        "df_juegos['price'].replace({'Free': 0, 'Free To Play': -0, 'Free Demo': 0, 'Free HITMAN™ Holiday Pack': 0, 'Free Mod': 0, 'Free Movie': 0, 'Free to Play': 0, 'Free to Try': 0, 'Free to Use': 0, 'Install Now': 0, 'Install Theme': 0, 'Play Now': -2, 'Play WARMACHINE: Tactics Demo': 0, 'Play for Free!': 0, 'Play the Demo': 0, 'Starting at $449.00': -2, 'Starting at $499.00': -2, 'Third-party': -2}, inplace=True)\n",
        "df_juegos['developer'].fillna('[]', inplace=True)\n",
        "\n",
        "# Eliminación de registro en ausencia de app_name y title\n",
        "df_juegos.dropna(subset=['app_name', 'title'], how='all', inplace=True)\n",
        "\n",
        "# conversión de \"id\" a valores numéricos\n",
        "df_juegos['id'] = pd.to_numeric(df_juegos['id'], errors='coerce')\n",
        "\n",
        "# Generación de nuevos \"id\"\n",
        "max_id = df_juegos['id'].max()\n",
        "filas_sin_id = df_juegos[df_juegos['id'].isna()]\n",
        "nuevas_id = range(int(max_id) + 1, int(max_id) + 1 + len(filas_sin_id))\n",
        "df_juegos.loc[df_juegos['id'].isna(), 'id'] = nuevas_id\n",
        "\n",
        "# Cambio de nombre de columna \"id\"\n",
        "df_juegos.rename(columns={'id': 'item_id'}, inplace=True)\n",
        "\n",
        "\n",
        "# Union y ordenamiento de genres y tags\n",
        "df_juegos['genres'] = df_juegos['genres'].apply(sorted).apply(str)\n",
        "df_juegos['tags'] = df_juegos['tags'].apply(sorted).apply(str)\n",
        "df_juegos['tags'] = df_juegos[['genres', 'tags']].agg(' '.join, axis=1)\n",
        "df_juegos.drop(columns=['genres'], inplace=True)\n",
        "\n",
        "\n",
        "# Ordenamiento de specs\n",
        "df_juegos['specs'] = df_juegos['specs'].apply(sorted).apply(str)\n",
        "\n",
        "\n",
        "\n",
        "\n",
        "\n"
      ]
    },
    {
      "cell_type": "code",
      "execution_count": null,
      "metadata": {},
      "outputs": [],
      "source": [
        "'''df_reviews'''\n",
        "\n",
        "# Desempaquetado de columna reviews\n",
        "datos = []\n",
        "for indice, fila in df_reviews.iterrows():\n",
        "    id = fila['user_id']\n",
        "    url = fila['user_url']\n",
        "    datos.extend([{'user_id': id, 'user_url': url, **review} for review in fila['reviews']])\n",
        "df_reviews = pd.DataFrame(datos)\n",
        "\n",
        "# Manejo de datos de la columna funny a valores numéricos\n",
        "df_reviews['funny'] = df_reviews['funny'].replace('', '0')\n",
        "df_reviews['funny'] = df_reviews['funny'].str.extract('(\\d+)').astype(int)\n",
        "\n",
        "# Manejo de datos faltantes\n",
        "df_reviews['last_edited'] = df_reviews['last_edited'].replace('', 'Not edited')"
      ]
    },
    {
      "cell_type": "code",
      "execution_count": null,
      "metadata": {},
      "outputs": [],
      "source": [
        "'''df_items'''\n",
        "\n",
        "# Desempaquetado de columna items\n",
        "data = []\n",
        "for indice, fila in df_items.iterrows():\n",
        "    id = fila['user_id']\n",
        "    url = fila['user_url']\n",
        "    if 'items' in fila and isinstance(fila['items'], list):\n",
        "        data.extend([{'user_id': id, 'user_url': url, **item} for item in fila['items']])\n",
        "df_items = pd.DataFrame(data)\n"
      ]
    },
    {
      "cell_type": "markdown",
      "metadata": {},
      "source": [
        "**Según lo visualizado, se harán las siguientes conversiones a los tipos de datos:**\n",
        "*   `df_juegos.release_date` será cambiado de object a datetime\n",
        "*   `df_juegos.early_access` será cambiado de object a booleano\n",
        "*   `df_reviews.item_id` será cambiado de object a integer\n",
        "*   `df_reviews.recommend` será cambiado de object a booleano\n",
        "*   `df_items.item_id` será cambiado de object a integer"
      ]
    },
    {
      "cell_type": "code",
      "execution_count": null,
      "metadata": {},
      "outputs": [],
      "source": [
        "#df_juegos['release_date'] = pd.to_datetime(df_juegos['release_date'], errors='coerce')\n",
        "df_juegos['early_access'] = df_juegos['early_access'].astype(bool)\n",
        "df_reviews['item_id'] = df_reviews['item_id'].astype(int)\n",
        "df_reviews['recommend'] = df_reviews['recommend'].astype(bool)\n",
        "df_items['item_id'] = df_items['item_id'].astype(int)"
      ]
    },
    {
      "cell_type": "markdown",
      "metadata": {},
      "source": [
        "**Creación de la columna \"sentiment_analysis\" en \"df_reviews\"**"
      ]
    },
    {
      "cell_type": "code",
      "execution_count": null,
      "metadata": {},
      "outputs": [],
      "source": [
        "df_reviews['sentiment_analysis'] = df_reviews['review'].apply(lambda x: SentimentIntensityAnalyzer().polarity_scores(x)['compound'])"
      ]
    },
    {
      "cell_type": "code",
      "execution_count": null,
      "metadata": {},
      "outputs": [],
      "source": [
        "df_reviews.drop('review', axis=1, inplace=True)"
      ]
    },
    {
      "cell_type": "code",
      "execution_count": null,
      "metadata": {},
      "outputs": [],
      "source": [
        "df_juegos = df_juegos.drop('publisher', axis=1)\n",
        "df_juegos = df_juegos.drop('title', axis=1)\n",
        "df_juegos = df_juegos.drop('url', axis=1)\n",
        "df_juegos = df_juegos.drop('reviews_url', axis=1)\n",
        "df_juegos = df_juegos.drop('specs', axis=1)\n",
        "df_juegos = df_juegos.drop('price', axis=1)\n",
        "df_juegos = df_juegos.drop('early_access', axis=1)\n",
        "df_juegos = df_juegos.drop('developer', axis=1)\n",
        "df_items = df_items.drop('user_url', axis=1)\n",
        "df_items = df_items.drop('item_name', axis=1)\n",
        "df_items = df_items.drop('playtime_2weeks', axis=1)\n",
        "df_reviews = df_reviews.drop('user_url', axis=1)\n",
        "df_reviews = df_reviews.drop('funny', axis=1)\n",
        "df_reviews = df_reviews.drop('posted', axis=1)\n",
        "df_reviews = df_reviews.drop('last_edited', axis=1)\n",
        "df_reviews = df_reviews.drop('helpful', axis=1)"
      ]
    },
    {
      "cell_type": "code",
      "execution_count": 4,
      "metadata": {
        "id": "c5whCIUgSvZf"
      },
      "outputs": [
        {
          "data": {
            "text/plain": [
              "<bound method DataFrame.info of                         app_name release_date  \\\n",
              "index                                           \n",
              "88310        Lost Summoner Kitty   2003-09-12   \n",
              "88311                  Ironbound   2003-09-12   \n",
              "88312    Real Pool 3D - Poolians   2003-09-12   \n",
              "88313                    弹炸人2222   2003-09-12   \n",
              "88314              Log Challenge   2003-09-12   \n",
              "...                          ...          ...   \n",
              "120439              Kebab it Up!   2003-09-12   \n",
              "120440            Colony On Mars   2003-09-12   \n",
              "120441  LOGistICAL: South Africa   2003-09-12   \n",
              "120442             Russian Roads   2003-09-12   \n",
              "120443       EXIT 2 - Directions   2003-09-12   \n",
              "\n",
              "                                                     tags  item_id  \n",
              "index                                                               \n",
              "88310   ['Action', 'Casual', 'Indie', 'Simulation', 'S...   761140  \n",
              "88311   ['Free to Play', 'Indie', 'RPG', 'Strategy'] [...   643980  \n",
              "88312   ['Casual', 'Free to Play', 'Indie', 'Simulatio...   670290  \n",
              "88313   ['Action', 'Adventure', 'Casual'] ['Action', '...   767400  \n",
              "88314   ['[', ']'] ['Action', 'Casual', 'Indie', 'Spor...   773570  \n",
              "...                                                   ...      ...  \n",
              "120439  ['Action', 'Adventure', 'Casual', 'Indie'] ['A...   745400  \n",
              "120440  ['Casual', 'Indie', 'Simulation', 'Strategy'] ...   773640  \n",
              "120441  ['Casual', 'Indie', 'Strategy'] ['Casual', 'In...   733530  \n",
              "120442  ['Indie', 'Racing', 'Simulation'] ['Indie', 'R...   610660  \n",
              "120443  ['Casual', 'Indie'] ['Atmospheric', 'Casual', ...   658870  \n",
              "\n",
              "[30055 rows x 4 columns]>"
            ]
          },
          "execution_count": 4,
          "metadata": {},
          "output_type": "execute_result"
        }
      ],
      "source": [
        "df_juegos.info\n",
        "\n"
      ]
    },
    {
      "cell_type": "code",
      "execution_count": null,
      "metadata": {
        "id": "Drm82tVAMAHP"
      },
      "outputs": [],
      "source": [
        "df_reviews\n",
        "\n"
      ]
    },
    {
      "cell_type": "code",
      "execution_count": null,
      "metadata": {
        "id": "6b_hxIvOMDfN"
      },
      "outputs": [],
      "source": [
        "df_items.info\n",
        "\n",
        "\n"
      ]
    },
    {
      "cell_type": "code",
      "execution_count": null,
      "metadata": {},
      "outputs": [],
      "source": [
        "df_items.to_parquet(\"items.parquet\")\n",
        "df_reviews.to_parquet(\"reviews.parquet\")\n",
        "df_juegos.to_parquet(\"games.parquet\")"
      ]
    }
  ],
  "metadata": {
    "colab": {
      "provenance": []
    },
    "kernelspec": {
      "display_name": "Python 3",
      "name": "python3"
    },
    "language_info": {
      "codemirror_mode": {
        "name": "ipython",
        "version": 3
      },
      "file_extension": ".py",
      "mimetype": "text/x-python",
      "name": "python",
      "nbconvert_exporter": "python",
      "pygments_lexer": "ipython3",
      "version": "3.11.5"
    }
  },
  "nbformat": 4,
  "nbformat_minor": 0
}
